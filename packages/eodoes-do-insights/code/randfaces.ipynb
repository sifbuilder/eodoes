{
  "nbformat": 4,
  "nbformat_minor": 0,
  "metadata": {
    "accelerator": "GPU",
    "colab": {
      "name": "randfaces.ipynb",
      "provenance": [],
      "collapsed_sections": []
    },
    "kernelspec": {
      "display_name": "Python 3",
      "language": "python",
      "name": "python3"
    },
    "language_info": {
      "codemirror_mode": {
        "name": "ipython",
        "version": 3
      },
      "file_extension": ".py",
      "mimetype": "text/x-python",
      "name": "python",
      "nbconvert_exporter": "python",
      "pygments_lexer": "ipython3",
      "version": "3.7.4"
    }
  },
  "cells": [
    {
      "cell_type": "markdown",
      "metadata": {
        "colab_type": "text",
        "id": "p1oARVh4UVXz"
      },
      "source": [
        "#### the faces' latent space is created with pbaylies' StyleGAN encoder (building on original work from Puzer): \n",
        "\n",
        "pbaylies repo: https://github.com/pbaylies/stylegan-encoder\n",
        "StyleGAN paper: https://arxiv.org/abs/1812.04948\n",
        "\n",
        "#### once run as\n",
        "\n",
        "https://colab.research.google.com/github/sifbuilder/eodoes/blob/master/packages/eodoes-do-insights/code/randfaces.ipynb\n",
        "\n"
      ]
    },
    {
      "cell_type": "code",
      "metadata": {
        "colab_type": "code",
        "id": "_iibdCrEzOBs",
        "colab": {}
      },
      "source": [
        "# will define globals\n",
        "\n",
        "cnnid = 'randfaces'\n",
        "\n",
        "autoDownloadImages = 1 # auto run mode - get uri[uri.rfind(\"/\")+1:] files from imgsToAutodownload\n",
        "uploadRawImages = 0 # manually upload raw images\n",
        "takePhotoImages = 0 # take photo for raw images\n",
        "\n",
        "imgsToAutodownload = [\n",
        "  \"https://github.com/sifbuilder/eodoes/raw/master/packages/eodoes-eodo-eofaces/img/amgc.jpg\"\n",
        "]\n",
        "\n",
        "downloadResults = 0 # download results\n",
        "\n",
        "emptyspace = 0 # or reset runtime\n",
        "toSmptyFolders = [\"stylegan-encoder\", \"InterFaceGAN\", \"output_vectors.npy\"]\n",
        "\n",
        "usegdrive = 0"
      ],
      "execution_count": 0,
      "outputs": []
    },
    {
      "cell_type": "code",
      "metadata": {
        "colab_type": "code",
        "id": "LIEdgUIv4vRR",
        "colab": {}
      },
      "source": [
        "# process\n",
        "\n",
        "import warnings\n",
        "warnings.filterwarnings('ignore')\n",
        "import os\n",
        "import numpy as np\n",
        "import humanize\n",
        "import psutil\n",
        "def printm():\n",
        " process = psutil.Process(os.getpid())\n",
        " print(\"Gen RAM Free: \" + humanize.naturalsize( psutil.virtual_memory().available ), \" | Proc size: \" + humanize.naturalsize( process.memory_info().rss))\n",
        "printm() "
      ],
      "execution_count": 0,
      "outputs": []
    },
    {
      "cell_type": "code",
      "metadata": {
        "colab_type": "code",
        "id": "YOd4j-8xbCKV",
        "colab": {}
      },
      "source": [
        "!nvcc --version"
      ],
      "execution_count": 0,
      "outputs": []
    },
    {
      "cell_type": "code",
      "metadata": {
        "colab_type": "code",
        "id": "f7kpW_UWVtao",
        "colab": {}
      },
      "source": [
        "# runtime type must be GPU enabled\n",
        "\n",
        "import os\n",
        "import pickle\n",
        "import numpy as np\n",
        "import math\n",
        "import random\n",
        "import matplotlib.pyplot as plt\n",
        "import PIL.Image\n",
        "\n",
        "import tensorflow as tf\n",
        "tf.VERSION\n",
        "device_name = tf.test.gpu_device_name()\n",
        "if device_name != '/device:GPU:0':\n",
        "  raise SystemError('GPU device not found')\n",
        "print('Found GPU at: {}'.format(device_name))\n"
      ],
      "execution_count": 0,
      "outputs": []
    },
    {
      "cell_type": "code",
      "metadata": {
        "colab_type": "code",
        "id": "a8gQ_eCmPFyL",
        "colab": {}
      },
      "source": [
        "!pwd"
      ],
      "execution_count": 0,
      "outputs": []
    },
    {
      "cell_type": "code",
      "metadata": {
        "colab_type": "code",
        "id": "w5ZDZIDlrqtx",
        "colab": {}
      },
      "source": [
        "# would clean root folder\n",
        "\n",
        "if emptyspace == 1:\n",
        "  print(\"remove folders %s\" %toSmptyFolders)\n",
        "  for folder in toSmptyFolders:\n",
        "    print(\"folder: %s\" %folder)\n",
        "    !rm -r $folder\n"
      ],
      "execution_count": 0,
      "outputs": []
    },
    {
      "cell_type": "code",
      "metadata": {
        "colab_type": "code",
        "id": "dG872StTLW2w",
        "colab": {}
      },
      "source": [
        "# stylegan folder signature\n",
        "\n",
        "signature='encode_images.py'\n",
        "isExist = os.path.exists(signature)\n",
        "if isExist:\n",
        "  print(\"in stylegan. up to root\")\n",
        "  %cd ..\n",
        "  "
      ],
      "execution_count": 0,
      "outputs": []
    },
    {
      "cell_type": "code",
      "metadata": {
        "colab_type": "code",
        "id": "BkycNxEeUWBA",
        "colab": {}
      },
      "source": [
        "# clone pbaylies stylegan encoder:\n",
        "\n",
        "path = 'stylegan-encoder'\n",
        "isExist = os.path.exists(path)\n",
        "if not isExist:\n",
        "  print(\"stylegan-encoder does not exist. will clone\")\n",
        "  !git clone https://github.com/pbaylies/stylegan-encoder\n",
        "else:\n",
        "  print(\"stylegan-encoder already exists. will not clone\")"
      ],
      "execution_count": 0,
      "outputs": []
    },
    {
      "cell_type": "code",
      "metadata": {
        "colab_type": "code",
        "id": "F-L8CaC6O6Bv",
        "colab": {}
      },
      "source": [
        "# cd into the encoder repo folder, then create image folders\n",
        "\n",
        "if os.path.exists('stylegan-encoder') is True:\n",
        "    os.chdir('stylegan-encoder')\n",
        "if os.path.exists('aligned_images') is False:\n",
        "    os.mkdir('aligned_images')\n",
        "if os.path.exists('raw_images') is False:\n",
        "    os.mkdir('raw_images')    "
      ],
      "execution_count": 0,
      "outputs": []
    },
    {
      "cell_type": "code",
      "metadata": {
        "colab_type": "code",
        "id": "RV4LOwC0cl3Q",
        "colab": {}
      },
      "source": [
        "\n",
        "import dnnlib\n",
        "import dnnlib.tflib as tflib\n",
        "import config\n",
        "from tqdm import tqdm_notebook as tqdm\n",
        "\n",
        "tflib.init_tf()"
      ],
      "execution_count": 0,
      "outputs": []
    },
    {
      "cell_type": "code",
      "metadata": {
        "colab_type": "code",
        "id": "DVdh8LIdQVSz",
        "colab": {}
      },
      "source": [
        "# pretrained resnet encoder - take image as input and estimate its latent code\n",
        "\n",
        "!gdown https://drive.google.com/uc?id=1aT59NFy9-bNyXjDuZOTMl0qX0jmZc6Zb\n",
        "!mkdir -p data\n",
        "!mv finetuned_resnet.h5 data\n",
        "!rm -rf generated_images latent_representations"
      ],
      "execution_count": 0,
      "outputs": []
    },
    {
      "cell_type": "code",
      "metadata": {
        "colab_type": "code",
        "id": "k1WKZNN3vFVv",
        "colab": {}
      },
      "source": [
        "print(\"aligned_images contains %d images ready for encoding!\" %len(os.listdir('aligned_images/')))"
      ],
      "execution_count": 0,
      "outputs": []
    },
    {
      "cell_type": "code",
      "metadata": {
        "colab_type": "code",
        "id": "1I698RTZoinF",
        "colab": {}
      },
      "source": [
        "# download the StyleGAN network from NVIDIA trained on faces \n",
        "# karras2019stylegan-ffhq-1024x1024.pkl\n",
        "\n",
        "!gdown https://drive.google.com/uc?id=1MEGjdvVpUsu1jB4zrXZN7Y4kBBOzizDQ"
      ],
      "execution_count": 0,
      "outputs": []
    },
    {
      "cell_type": "code",
      "metadata": {
        "colab_type": "code",
        "id": "cvOf9x6_rIHO",
        "colab": {}
      },
      "source": [
        "# load the stylegan and instantiate the generator\n",
        "\n",
        "fmt = dict(func=tflib.convert_images_to_uint8, nchw_to_nhwc=True)\n",
        "\n",
        "# bsize = 8\n",
        "bsize = 1\n",
        "synthesis_kwargs = dict(output_transform=fmt, minibatch_size=bsize) \n",
        "\n",
        "model_dir = './'\n",
        "model_path = 'karras2019stylegan-ffhq-1024x1024.pkl'\n",
        "print(\"Loading StyleGAN model from %s...\" %model_path)\n",
        "\n",
        "with dnnlib.util.open_url(model_path) as f:\n",
        "  generator_network, discriminator_network, averaged_generator_network = pickle.load(f)\n",
        "  _G = generator_network\n",
        "  _D = discriminator_network\n",
        "  Gs = averaged_generator_network\n",
        "  \n",
        "print(\"StyleGAN loaded\")\n"
      ],
      "execution_count": 0,
      "outputs": []
    },
    {
      "cell_type": "code",
      "metadata": {
        "colab_type": "code",
        "id": "yxT1eTTxva8k",
        "colab": {}
      },
      "source": [
        "# show generator model\n",
        "\n",
        "# generator_network.print_layers()"
      ],
      "execution_count": 0,
      "outputs": []
    },
    {
      "cell_type": "code",
      "metadata": {
        "colab_type": "code",
        "id": "uaSENEp8efOI",
        "colab": {}
      },
      "source": [
        "# generate and plot random images\n",
        "\n",
        "import matplotlib.pyplot as plt\n",
        "%matplotlib inline\n",
        "\n",
        "def generate_images(generator, latent_vector, z = True):\n",
        "    batch_size = latent_vector.shape[0]\n",
        "    \n",
        "    if z: #Start from z: run the full generator network\n",
        "        return generator.run(latent_vector.reshape((batch_size, 512)), None, randomize_noise=True, **synthesis_kwargs)\n",
        "    else: #Start from w: skip the mapping network\n",
        "        return generator.components.synthesis.run(latent_vector.reshape((batch_size, 18, 512)), randomize_noise=True, **synthesis_kwargs)\n",
        "\n",
        "def plot_imgs(model, rows, columns):\n",
        "  rndvects = {}\n",
        "  for i in range(rows):\n",
        "    f, axarr = plt.subplots(1,columns, figsize = (20,8))\n",
        "    for j in range(columns):\n",
        "      rndvects[i,j] = np.random.randn(1,512)\n",
        "      \n",
        "      img = generate_images(model, rndvects[i,j], z = True)[0]\n",
        "           \n",
        "      \n",
        "      axarr[j].imshow(img)\n",
        "      axarr[j].axis('off')\n",
        "      axarr[j].set_title('Resolution: %s' %str(img.shape))\n",
        "    plt.show()\n",
        "    \n",
        "# random StyleGAN samples:\n",
        "import numpy as np\n",
        "plot_imgs(averaged_generator_network, 3, 3)"
      ],
      "execution_count": 0,
      "outputs": []
    },
    {
      "cell_type": "code",
      "metadata": {
        "colab_type": "code",
        "id": "ftE6yeqnfAaf",
        "colab": {}
      },
      "source": [
        "truncation = 0.5\n",
        "\n",
        "\n",
        "def bookmark(latents, new_faves):\n",
        "    for f in new_faves:\n",
        "        faves.append(latents[f])\n",
        "\n",
        "def show_faves(faves):\n",
        "    latents = np.array(faves)\n",
        "    labels = np.zeros([latents.shape[0]] + Gs.input_shapes[1][1:])\n",
        "    n = len(faves)\n",
        "    nr, nc = math.ceil(n / 6), 6\n",
        "    for r in range(nr):\n",
        "        images = Gs.run(latents[6*r:min(n-1, 6*(r+1))], None, truncation_psi=truncation, randomize_noise=False, output_transform=fmt)\n",
        "        img1 = np.concatenate([img for img in images], axis=1)\n",
        "        plt.figure(figsize=(24,4))\n",
        "        plt.imshow(img1)\n",
        "        \n",
        "def random_sample(num_images, scale):\n",
        "    latents = np.random.RandomState(int(1000*random.random())).randn(num_images, *Gs.input_shapes[0][1:])\n",
        "    labels = np.zeros([latents.shape[0]] + Gs.input_shapes[1][1:])\n",
        "    images = Gs.run(latents, None, truncation_psi=truncation, randomize_noise=False, output_transform=fmt)\n",
        "    images_ct = np.concatenate([img for img in images], axis=1)\n",
        "    plt.figure(figsize=(scale*num_images, scale))\n",
        "    plt.imshow(images_ct)\n",
        "    return images, latents\n",
        "\n",
        "def get_latent_interpolation(endpoints, num_frames_per, mode, shuffle):\n",
        "    if shuffle:\n",
        "        random.shuffle(endpoints)\n",
        "    num_endpoints, dim = len(endpoints), len(endpoints[0])\n",
        "    num_frames = num_frames_per * num_endpoints\n",
        "    endpoints = np.array(endpoints)\n",
        "    latents = np.zeros((num_frames, dim))\n",
        "    for e in range(num_endpoints):\n",
        "        e1, e2 = e, (e+1)%num_endpoints\n",
        "        for t in range(num_frames_per):\n",
        "            frame = e * num_frames_per + t\n",
        "            r = 0.5 - 0.5 * np.cos(np.pi*t/(num_frames_per-1)) if mode == 'ease' else float(t) / num_frames_per\n",
        "            latents[frame, :] = (1.0-r) * endpoints[e1,:] + r * endpoints[e2,:]\n",
        "    return latents\n",
        "\n",
        "def get_latent_interpolation_bspline(endpoints, nf, k, s, shuffle):\n",
        "    if shuffle:\n",
        "        random.shuffle(endpoints)\n",
        "    x = np.array(endpoints)\n",
        "    x = np.append(x, x[0,:].reshape(1, x.shape[1]), axis=0)\n",
        "    nd = x.shape[1]\n",
        "    latents = np.zeros((nd, nf))\n",
        "    nss = list(range(1, 10)) + [10]*(nd-19) + list(range(10,0,-1))\n",
        "    for i in tqdm(range(nd-9)):\n",
        "        idx = list(range(i,i+10))\n",
        "        tck, u = interpolate.splprep([x[:,j] for j in range(i,i+10)], k=k, s=s)\n",
        "        out = interpolate.splev(np.linspace(0, 1, num=nf, endpoint=True), tck)\n",
        "        latents[i:i+10,:] += np.array(out)\n",
        "    latents = latents / np.array(nss).reshape((512,1))\n",
        "    return latents.T\n",
        "\n",
        "\n",
        "def generate_images(latents, labels):\n",
        "    batch_size = 8\n",
        "    num_frames = latents.shape[0]\n",
        "    num_batches = int(np.ceil(num_frames/batch_size))\n",
        "    images = []\n",
        "    for b in tqdm(range(num_batches)):\n",
        "        new_images = Gs.run(latents[b*batch_size:min((b+1)*batch_size, num_frames-1), :], None, truncation_psi=truncation, randomize_noise=False, output_transform=fmt)\n",
        "        for img in new_images:\n",
        "            images.append(img)\n",
        "    return images\n",
        "\n",
        "def make_movie(images, out_dir, out_name):\n",
        "    temp_dir = 'frames%06d'%int(1000000*random.random())\n",
        "    os.system('mkdir %s'%temp_dir)\n",
        "    for idx in tqdm(range(len(images))):\n",
        "        PIL.Image.fromarray(images[idx], 'RGB').save('%s/frame%05d.png' % (temp_dir, idx))\n",
        "    cmd = 'ffmpeg -i %s/frame%%05d.png -c:v libx264 -pix_fmt yuv420p %s/%s.mp4' % (temp_dir, out_dir, out_name)\n",
        "    print(cmd)\n",
        "    os.system(cmd)\n",
        "    os.system('rm -rf %s'%temp_dir)"
      ],
      "execution_count": 0,
      "outputs": []
    },
    {
      "cell_type": "code",
      "metadata": {
        "colab_type": "code",
        "id": "8lCU-_ykfUGv",
        "colab": {}
      },
      "source": [
        "def random_sample(num_images, scale):\n",
        "    latents = np.random.RandomState(int(1000*random.random())).randn(num_images, *Gs.input_shapes[0][1:])\n",
        "    labels = np.zeros([latents.shape[0]] + Gs.input_shapes[1][1:])\n",
        "    images = Gs.run(latents, None, truncation_psi=truncation, randomize_noise=False, output_transform=fmt)\n",
        "    images_ct = np.concatenate([img for img in images], axis=1)\n",
        "    plt.figure(figsize=(scale*num_images, scale))\n",
        "    plt.imshow(images_ct)\n",
        "    plt.axis('off')\n",
        "    plt.savefig('download.png')\n",
        "    return images, latents\n",
        "\n",
        "images, latents = random_sample(5, scale=2)"
      ],
      "execution_count": 0,
      "outputs": []
    },
    {
      "cell_type": "code",
      "metadata": {
        "colab_type": "code",
        "id": "sqc47nZifTHd",
        "colab": {}
      },
      "source": [
        "latents = get_latent_interpolation(latents, 30, 'linear', False)\n",
        "labels = np.zeros([latents.shape[0]] + Gs.input_shapes[1][1:])\n",
        "\n",
        "images = generate_images(latents, labels)    \n",
        "\n",
        "make_movie(images, '.', 'faves13')"
      ],
      "execution_count": 0,
      "outputs": []
    },
    {
      "cell_type": "code",
      "metadata": {
        "id": "6HCNO6AaqEcj",
        "colab_type": "code",
        "colab": {}
      },
      "source": [
        "# display videos\n",
        "from moviepy.editor import *\n",
        "from moviepy.video.io.VideoFileClip import VideoFileClip\n",
        "from moviepy.Clip import Clip\n",
        "from IPython.display import display\n",
        "\n",
        "vid_path = './faves13.mp4'\n",
        "print (\"vid_path %s\" %vid_path)\n",
        "clip = VideoFileClip(vid_path)\n",
        "display(clip.ipython_display(height=512, autoplay=1, loop=1))\n"
      ],
      "execution_count": 0,
      "outputs": []
    },
    {
      "cell_type": "code",
      "metadata": {
        "id": "DlEzK7Gan6U6",
        "colab_type": "code",
        "colab": {}
      },
      "source": [
        ""
      ],
      "execution_count": 0,
      "outputs": []
    }
  ]
}