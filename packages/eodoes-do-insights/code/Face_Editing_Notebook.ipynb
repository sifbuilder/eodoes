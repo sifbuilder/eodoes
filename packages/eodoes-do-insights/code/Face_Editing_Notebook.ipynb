{
 "cells": [
  {
   "cell_type": "markdown",
   "metadata": {
    "colab_type": "text",
    "id": "bMJGA4K--HCx"
   },
   "source": [
    "# Notebook II: Playing with Latent Codes"
   ]
  },
  {
   "cell_type": "markdown",
   "metadata": {
    "colab_type": "text",
    "id": "_I2g9NxMaIh8"
   },
   "source": [
    "# ![alt text](https://raw.githubusercontent.com/tr1pzz/InterFaceGAN/master/teaser.jpg)"
   ]
  },
  {
   "cell_type": "code",
   "execution_count": null,
   "metadata": {
    "colab": {
     "base_uri": "https://localhost:8080/",
     "height": 35
    },
    "colab_type": "code",
    "executionInfo": {
     "elapsed": 1817,
     "status": "ok",
     "timestamp": 1568374921631,
     "user": {
      "displayName": "Arxiv Insights",
      "photoUrl": "https://lh3.googleusercontent.com/a-/AAuE7mDtLZ4XR7ic9brhw2Q-b7vC2lP5O_wqfoeqNSMYfQ=s64",
      "userId": "09836844893186499683"
     },
     "user_tz": -120
    },
    "id": "tWXQFcZn-FzY",
    "outputId": "dc0be06f-6830-4bc9-98b0-2c0aded10f8c"
   },
   "outputs": [],
   "source": [
    "import tensorflow as tf\n",
    "tf.VERSION"
   ]
  },
  {
   "cell_type": "code",
   "execution_count": null,
   "metadata": {
    "colab": {
     "base_uri": "https://localhost:8080/",
     "height": 87
    },
    "colab_type": "code",
    "executionInfo": {
     "elapsed": 3232,
     "status": "ok",
     "timestamp": 1568374923058,
     "user": {
      "displayName": "Arxiv Insights",
      "photoUrl": "https://lh3.googleusercontent.com/a-/AAuE7mDtLZ4XR7ic9brhw2Q-b7vC2lP5O_wqfoeqNSMYfQ=s64",
      "userId": "09836844893186499683"
     },
     "user_tz": -120
    },
    "id": "79zSyWeEKNLz",
    "outputId": "39f151c7-7681-4ce4-b2b8-854b10bbd351"
   },
   "outputs": [],
   "source": [
    "!nvcc --version"
   ]
  },
  {
   "cell_type": "markdown",
   "metadata": {
    "colab_type": "text",
    "id": "6OBitszH_AlI"
   },
   "source": [
    "## Clone my fork of InterFaceGAN\n",
    "### Original Repo: https://github.com/ShenYujun/InterFaceGAN\n",
    "\n",
    "### Paper: https://arxiv.org/abs/1907.10786"
   ]
  },
  {
   "cell_type": "code",
   "execution_count": null,
   "metadata": {},
   "outputs": [],
   "source": [
    "# stylegan-encoder/.."
   ]
  },
  {
   "cell_type": "code",
   "execution_count": null,
   "metadata": {
    "colab": {
     "base_uri": "https://localhost:8080/",
     "height": 139
    },
    "colab_type": "code",
    "id": "ei2940NwDoHE",
    "outputId": "d8e84dab-79fb-4d9b-bc77-eb55381e5092"
   },
   "outputs": [],
   "source": [
    "!git clone https://github.com/tr1pzz/InterFaceGAN.git"
   ]
  },
  {
   "cell_type": "markdown",
   "metadata": {
    "colab_type": "text",
    "id": "KpDtPNTXBA7E"
   },
   "source": [
    "## Download the pretrained StyleGAN FFHQ network from NVIDIA:"
   ]
  },
  {
   "cell_type": "code",
   "execution_count": null,
   "metadata": {
    "colab": {
     "base_uri": "https://localhost:8080/",
     "height": 87
    },
    "colab_type": "code",
    "id": "VumYqzzx_V-3",
    "outputId": "a38415da-fdbd-475b-837c-1f8999cfd8a0"
   },
   "outputs": [],
   "source": [
    "!gdown https://drive.google.com/uc?id=1MEGjdvVpUsu1jB4zrXZN7Y4kBBOzizDQ\n",
    "!mv InterFaceGAN/karras2019stylegan-ffhq-1024x1024.pkl InterFaceGAN/models/pretrain/karras2019stylegan-ffhq-1024x1024.pkl"
   ]
  },
  {
   "cell_type": "markdown",
   "metadata": {
    "colab_type": "text",
    "id": "A-jCeP5FLGKy"
   },
   "source": [
    "# I. Let's load our latent space vectors:\n",
    "> 1. If you simply continued from the previous notebook, these should still be on the VM and the next Python cell should execute fine\n",
    "> 2. Otherwise, manually upload the output_vectors.npy file to the root of the directory\n",
    ">> Right-click anywhere inside the Files browser --> \"Upload\""
   ]
  },
  {
   "cell_type": "code",
   "execution_count": null,
   "metadata": {
    "colab": {
     "base_uri": "https://localhost:8080/",
     "height": 35
    },
    "colab_type": "code",
    "id": "G107GNIrRCwO",
    "outputId": "afc03c56-ccaf-4767-9438-675a5fb2613f"
   },
   "outputs": [],
   "source": [
    "import numpy as np\n",
    "final_w_vectors = np.load('output_vectors.npy')\n",
    "\n",
    "print(\"%d latent vectors of shape %s loaded from %s!\" %(final_w_vectors.shape[0], str(final_w_vectors.shape[1:]), 'output_vectors.npy'))"
   ]
  },
  {
   "cell_type": "markdown",
   "metadata": {
    "colab_type": "text",
    "id": "jKKHslTK_qXf"
   },
   "source": [
    "## The InterFaceGAN comes with a bunch of pretrained latent directions\n",
    "### (However, you can also train your own!!)\n",
    "### Pick the latent space manipulation we want to use (added it as the -b argument below)"
   ]
  },
  {
   "cell_type": "markdown",
   "metadata": {
    "colab_type": "text",
    "id": "kitaBV3ORkMO"
   },
   "source": [
    "Boundaries: https://github.com/ShenYujun/InterFaceGAN/tree/master/boundaries\n",
    "* stylegan_ffhq_age_w_boundary.npy\n",
    "* stylegan_ffhq_eyeglasses_w_boundary.npy\n",
    "* stylegan_ffhq_gender_w_boundary.npy\n",
    "* stylegan_ffhq_pose_w_boundary.npy\n",
    "* stylegan_ffhq_smile_w_boundary.npy\n"
   ]
  },
  {
   "cell_type": "markdown",
   "metadata": {
    "colab_type": "text",
    "id": "BZopDqpOjUqx"
   },
   "source": [
    "# II. Let's configure our latent-space interpolation\n",
    "### Change the settings below to morph the faces:"
   ]
  },
  {
   "cell_type": "code",
   "execution_count": null,
   "metadata": {
    "colab": {},
    "colab_type": "code",
    "id": "02OJnoKiczjy"
   },
   "outputs": [],
   "source": [
    "latent_direction = 'age'     #### Pick one of ['age', 'eyeglasses', 'gender', 'pose', 'smile']\n",
    "morph_strength = 3           # Controls how strongly we push the face into a certain latent direction (try 1-5)\n",
    "nr_interpolation_steps = 48  # The amount of intermediate steps/frames to render along the interpolation path"
   ]
  },
  {
   "cell_type": "markdown",
   "metadata": {
    "colab_type": "text",
    "id": "WJLg4Px8_hvG"
   },
   "source": [
    "# III. Run the latent space manipulation & generate images:"
   ]
  },
  {
   "cell_type": "code",
   "execution_count": null,
   "metadata": {
    "colab": {
     "base_uri": "https://localhost:8080/",
     "height": 87
    },
    "colab_type": "code",
    "id": "RDksv9CdjrB3",
    "outputId": "e7377a58-93a6-406f-d263-5b1950a079f6"
   },
   "outputs": [],
   "source": [
    "boundary_file = 'stylegan_ffhq_%s_w_boundary.npy' %latent_direction\n",
    "\n",
    "print(\"Ready to start manipulating faces in the ** %s ** direction!\" %latent_direction)\n",
    "print(\"Interpolation from %d to %d with %d intermediate frames.\" %(-morph_strength, morph_strength, nr_interpolation_steps))\n",
    "print(\"\\nLoading latent directions from %s\" %boundary_file)"
   ]
  },
  {
   "cell_type": "markdown",
   "metadata": {
    "colab_type": "text",
    "id": "cNx5RU7Ll6mX"
   },
   "source": [
    "\n",
    "## Final note: The code cell below has a bug I still need to fix...\n",
    "### First time you run it, it will give an error.\n",
    "### ----> Don't worry: just run the same cell again and it should work :p"
   ]
  },
  {
   "cell_type": "markdown",
   "metadata": {
    "colab_type": "text",
    "id": "tbiHWVLVSUbY"
   },
   "source": [
    "## Ready? Set, Go!"
   ]
  },
  {
   "cell_type": "code",
   "execution_count": null,
   "metadata": {
    "colab": {
     "base_uri": "https://localhost:8080/",
     "height": 89
    },
    "colab_type": "code",
    "id": "8-QG5vukdX0j",
    "outputId": "572ee7af-37d7-4fba-b8a8-38fb39535a61"
   },
   "outputs": [],
   "source": [
    "import subprocess\n",
    "return_code = subprocess.call(\"rm -r results/%s\" %latent_direction, shell=True)\n",
    "\n",
    "run_command = \"python edit.py \\\n",
    "      -m stylegan_ffhq \\\n",
    "      -b boundaries/stylegan_ffhq_%s_w_boundary.npy \\\n",
    "      -s Wp \\\n",
    "      -i '/content/output_vectors.npy' \\\n",
    "      -o results/%s \\\n",
    "      --start_distance %.2f \\\n",
    "      --end_distance %.2f \\\n",
    "      --steps=%d\" %(latent_direction, latent_direction, -morph_strength, morph_strength, nr_interpolation_steps)\n",
    "\n",
    "\n",
    "print(\"Running latent interpolations... This should not take longer than ~1 minute\")\n",
    "print(\"Running: %s\" %run_command)\n",
    "return_code = subprocess.call(run_command, shell=True)\n",
    "\n",
    "if not return_code:\n",
    "  print(\"Latent interpolation successfully dumped to disk!\")\n",
    "else:\n",
    "  print(\"Something went wrong, try re-executing this cell...\")"
   ]
  },
  {
   "cell_type": "markdown",
   "metadata": {
    "colab_type": "text",
    "id": "T42E-Nb5AM2_"
   },
   "source": [
    "# IV. Finally, turn the results into pretty movies!\n",
    "Adjust which video to render & at what framerate:"
   ]
  },
  {
   "cell_type": "code",
   "execution_count": null,
   "metadata": {
    "colab": {},
    "colab_type": "code",
    "id": "LD0oVlmfATur"
   },
   "outputs": [],
   "source": [
    "image_folder = 'InterFaceGAN/results/%s' %latent_direction\n",
    "video_fps = 12."
   ]
  },
  {
   "cell_type": "markdown",
   "metadata": {
    "colab_type": "text",
    "id": "KinkBP0OnGUZ"
   },
   "source": [
    "### Render the videos:"
   ]
  },
  {
   "cell_type": "code",
   "execution_count": null,
   "metadata": {
    "colab": {
     "base_uri": "https://localhost:8080/",
     "height": 191
    },
    "colab_type": "code",
    "id": "2pgBNXQ0Tf4k",
    "outputId": "e38fb05e-5e80-4235-b99d-a90815435878"
   },
   "outputs": [],
   "source": [
    "from moviepy.editor import *\n",
    "import cv2\n",
    "\n",
    "out_path = 'output_videos/'\n",
    "\n",
    "images = [img_path for img_path in sorted(os.listdir(image_folder)) if '.jpg' in img_path]\n",
    "os.makedirs(out_path, exist_ok=True)\n",
    "\n",
    "prev_id = None\n",
    "img_sets = []\n",
    "for img_path in images:\n",
    "  img_id = img_path.split('_')[0]\n",
    "  if img_id == prev_id: #append\n",
    "    img_sets[-1].append(img_path)\n",
    "    \n",
    "  else: #start a new img set\n",
    "    img_sets.append([])\n",
    "    img_sets[-1].append(img_path)\n",
    "  prev_id = img_id\n",
    "\n",
    "print(\"Found %d image sets!\\n\" %len(img_sets))\n",
    "if image_folder[-1] != '/':\n",
    "  image_folder += '/'\n",
    "\n",
    "def make_video(images, vid_name):\n",
    "    fourcc = cv2.VideoWriter_fourcc(*'mp4v')\n",
    "    video = cv2.VideoWriter(vid_name, fourcc, video_fps, (1024, 1024))\n",
    "    gen = {}\n",
    "    for img in images:\n",
    "      video.write(img)\n",
    "    video.release()\n",
    "    print('finished '+ vid_name)\n",
    "    \n",
    "    \n",
    "for i in range(len(img_sets)):\n",
    "  print(\"############################\")\n",
    "  print(\"\\nGenerating video %d...\" %i)\n",
    "  set_images = []\n",
    "  vid_name = out_path + 'out_video_%s_%02d.mp4' %(latent_direction,i)\n",
    "  for img_path in img_sets[i]:\n",
    "    set_images.append(cv2.imread(image_folder + img_path))\n",
    "\n",
    "  set_images.extend(reversed(set_images))\n",
    "  make_video(set_images, vid_name)"
   ]
  },
  {
   "cell_type": "markdown",
   "metadata": {
    "colab_type": "text",
    "id": "0Vx5vMxRgxC0"
   },
   "source": [
    "## Option 1: \n",
    "> ### Navigate to output_videos/\n",
    "> (you might have to \"REFRESH\" the Filebrowser)\n",
    "> ### Download the videos to your local pc\n",
    "> (This makes viewing a bit easier + you can share them :p)"
   ]
  },
  {
   "cell_type": "markdown",
   "metadata": {
    "colab_type": "text",
    "id": "ikEaHutqg6QA"
   },
   "source": [
    "## Option 2:\n",
    "> ### Display the videos right here in the notebook"
   ]
  },
  {
   "cell_type": "markdown",
   "metadata": {
    "colab_type": "text",
    "id": "gqzyMpDNAf9g"
   },
   "source": [
    "## Visualise the resulting videos inside this Notebook:"
   ]
  },
  {
   "cell_type": "code",
   "execution_count": null,
   "metadata": {
    "colab": {
     "base_uri": "https://localhost:8080/",
     "height": 551
    },
    "colab_type": "code",
    "id": "6kHw182YT_v6",
    "outputId": "af640b90-d757-4eb0-975f-5aafc326c07e"
   },
   "outputs": [],
   "source": [
    "video_file_to_show = 0\n",
    "\n",
    "clip = VideoFileClip('/content/output_videos/out_video_%s_%02d.mp4' %(latent_direction, video_file_to_show))\n",
    "clip.ipython_display(height=512, autoplay=1, loop=1)"
   ]
  },
  {
   "cell_type": "code",
   "execution_count": null,
   "metadata": {
    "colab": {
     "base_uri": "https://localhost:8080/",
     "height": 551
    },
    "colab_type": "code",
    "id": "3jztOE_tH7fR",
    "outputId": "895939ab-414b-45fd-bde5-361e16307729"
   },
   "outputs": [],
   "source": [
    "video_file_to_show = 1\n",
    "\n",
    "clip = VideoFileClip('/content/output_videos/out_video_%s_%02d.mp4' %(latent_direction, video_file_to_show))\n",
    "clip.ipython_display(height=512, autoplay=1, loop=1)"
   ]
  },
  {
   "cell_type": "markdown",
   "metadata": {
    "colab_type": "text",
    "id": "uEhxBvAR-7y3"
   },
   "source": [
    "# V. Your turn to experiment\n",
    "\n",
    "## You now have all the tools to start exploring the latent Space of StyleGAN: HAVE FUN!\n",
    "### StyleGAN paper link: https://arxiv.org/abs/1812.04948\n",
    "\n",
    "### Some things you could try:\n",
    "* You can blend between two faces by doing a linear interpolation in the latent space: very cool!\n",
    "*   The StyleGAN vector has 18x512 dimensions, each of those 18 going into a different layer of the generator...\n",
    "*   You could eg take the first 9 from person A and the next 9 from person B\n",
    "*   This is why it's called \"Style-GAN\": you can manipulate the style of an image at multiple levels of the Generator!\n",
    "*   Try interpolating in Z-space rather than in W-space (see InterFaceGan paper & repo)\n",
    "* Have Fun!!\n",
    "# Find something cool you wanna share? \n",
    "## ---> Tag me on Twitter @xsteenbrugge: https://twitter.com/xsteenbrugge\n",
    "## ---> Or simply share it in the comments on YouTube!"
   ]
  }
 ],
 "metadata": {
  "accelerator": "GPU",
  "colab": {
   "collapsed_sections": [],
   "name": "2. Face_Editing_Notebook.ipynb",
   "provenance": [],
   "version": "0.3.2"
  },
  "kernelspec": {
   "display_name": "Python 3",
   "language": "python",
   "name": "python3"
  },
  "language_info": {
   "codemirror_mode": {
    "name": "ipython",
    "version": 3
   },
   "file_extension": ".py",
   "mimetype": "text/x-python",
   "name": "python",
   "nbconvert_exporter": "python",
   "pygments_lexer": "ipython3",
   "version": "3.7.4"
  }
 },
 "nbformat": 4,
 "nbformat_minor": 1
}
